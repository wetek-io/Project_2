{
 "cells": [
  {
   "cell_type": "code",
   "execution_count": 1,
   "metadata": {},
   "outputs": [],
   "source": [
    "import pipeline as pl\n",
    "import pandas as pd"
   ]
  },
  {
   "cell_type": "code",
   "execution_count": 2,
   "metadata": {},
   "outputs": [],
   "source": [
    "heart_2022_df = pd.read_csv(\"heart_2022_with_nans.csv\")"
   ]
  },
  {
   "cell_type": "code",
   "execution_count": 3,
   "metadata": {},
   "outputs": [
    {
     "name": "stdout",
     "output_type": "stream",
     "text": [
      " ----------------- NA REMOVED ----------------- \n",
      "Run all columns\n",
      "\n",
      "Accuracy:\n",
      "Score for train: 0.7388\n",
      "Score for test: 0.7344\n",
      "Recall:\n",
      "Train recall: 0.8148\n",
      "Test recall: 0.7933\n",
      "---------------------------------\n",
      "With only the ones from Keepers:\n",
      "\n",
      "Accuracy:\n",
      "Score for train: 1.0000\n",
      "Score for test: 1.0000\n",
      "Recall:\n",
      "Train recall: 1.0000\n",
      "Test recall: 1.0000\n",
      "---------------------------------\n",
      "With only the ones from the yes/no columns:\n",
      "\n",
      "Accuracy:\n",
      "Score for train: 1.0000\n",
      "Score for test: 1.0000\n",
      "Recall:\n",
      "Train recall: 1.0000\n",
      "Test recall: 1.0000\n"
     ]
    },
    {
     "ename": "ValueError",
     "evalue": "too many values to unpack (expected 2)",
     "output_type": "error",
     "traceback": [
      "\u001b[1;31m---------------------------------------------------------------------------\u001b[0m",
      "\u001b[1;31mValueError\u001b[0m                                Traceback (most recent call last)",
      "Cell \u001b[1;32mIn[3], line 1\u001b[0m\n\u001b[1;32m----> 1\u001b[0m model, model2 \u001b[38;5;241m=\u001b[39m pl\u001b[38;5;241m.\u001b[39mmodel_generator(heart_2022_df)\n",
      "\u001b[1;31mValueError\u001b[0m: too many values to unpack (expected 2)"
     ]
    }
   ],
   "source": [
    "model, model2 = pl.model_generator(heart_2022_df)"
   ]
  }
 ],
 "metadata": {
  "kernelspec": {
   "display_name": "project_2_env",
   "language": "python",
   "name": "python3"
  },
  "language_info": {
   "codemirror_mode": {
    "name": "ipython",
    "version": 3
   },
   "file_extension": ".py",
   "mimetype": "text/x-python",
   "name": "python",
   "nbconvert_exporter": "python",
   "pygments_lexer": "ipython3",
   "version": "3.12.7"
  }
 },
 "nbformat": 4,
 "nbformat_minor": 2
}
