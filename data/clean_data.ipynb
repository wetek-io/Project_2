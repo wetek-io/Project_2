{
 "cells": [
  {
   "cell_type": "code",
   "execution_count": null,
   "id": "66d44e3e",
   "metadata": {},
   "outputs": [],
   "source": [
    "\"\"\"Quick and easy cleaning method for the dataset\"\"\""
   ]
  },
  {
   "cell_type": "code",
   "execution_count": null,
   "id": "f218924a",
   "metadata": {},
   "outputs": [],
   "source": [
    "import logging\n",
    "from pathlib import Path"
   ]
  },
  {
   "cell_type": "code",
   "execution_count": null,
   "id": "b592783d",
   "metadata": {},
   "outputs": [],
   "source": [
    "import pandas as pd"
   ]
  },
  {
   "cell_type": "code",
   "execution_count": null,
   "id": "8b852612",
   "metadata": {},
   "outputs": [],
   "source": [
    "from data.value_maps import category_maps, binary_maps, fill_values"
   ]
  },
  {
   "cell_type": "code",
   "execution_count": null,
   "id": "63dc8cca",
   "metadata": {},
   "outputs": [],
   "source": [
    "CSV_URL = \"https://web-app-media-assests.sfo3.cdn.digitaloceanspaces.com/Indicators_of_Heart_Disease/2022/heart_2022_with_nans.csv\"\n",
    "RAW_DATA_PATH = \"./data/csv/raw_data.csv\"\n",
    "CLEAN_DATA_PATH = \"./data/csv/clean_data.csv\""
   ]
  },
  {
   "cell_type": "code",
   "execution_count": null,
   "id": "8da8f498",
   "metadata": {},
   "outputs": [],
   "source": [
    "def clean_data(\n",
    "    df,\n",
    "    path,\n",
    "    fillna: bool = False,\n",
    "    dropna: bool = False,\n",
    "    remap_values: bool = True,\n",
    "    drop_obj: bool = True,\n",
    "):\n",
    "    \"\"\"\n",
    "    Cleans the input DataFrame by applying mappings, filling/dropping NaN values,\n",
    "    and saving raw and cleaned versions of the data.\n",
    "\n",
    "    Args:\n",
    "        df (pd.DataFrame): Input DataFrame to clean.\n",
    "        path (str): Directory path to save raw and cleaned data.\n",
    "        fillna (bool): Whether to fill missing values.\n",
    "        dropna (bool): Whether to drop rows with missing values.\n",
    "        target_columns (list[str], optional): List of columns to retain.\n",
    "\n",
    "    Returns:\n",
    "    \n",
    "        pd.DataFrame: The cleaned DataFrame.\n",
    "    \"\"\"\n",
    "\n",
    "    # Initialize logger\n",
    "    logging.basicConfig(level=logging.INFO)\n",
    "\n",
    "    # Save raw data\n",
    "    logging.info(\"Saving raw data...\")\n",
    "\n",
    "    pd.DataFrame.to_csv(df, f\"{path}/raw_data.csv\", index=False)\n",
    "\n",
    "    if remap_values:\n",
    "        df[\"GeneralHealth\"] = df[\"GeneralHealth\"].map(category_maps[\"GeneralHealth\"])\n",
    "        df[\"AgeCategory\"] = df[\"AgeCategory\"].map(category_maps[\"AgeCategory\"])\n",
    "        df[\"RaceEthnicityCategory\"] = df[\"RaceEthnicityCategory\"].map(\n",
    "            category_maps[\"RaceEthnicityCategory\"]\n",
    "        )\n",
    "        df[\"SmokerStatus\"] = df[\"SmokerStatus\"].map(category_maps[\"SmokerStatus\"])\n",
    "        df[\"ECigaretteUsage\"] = df[\"ECigaretteUsage\"].map(\n",
    "            category_maps[\"ECigaretteUsage\"]\n",
    "        )\n",
    "        df[\"LastCheckupTime\"] = df[\"LastCheckupTime\"].map(\n",
    "            category_maps[\"LastCheckupTime\"]\n",
    "        )\n",
    "        df[\"State\"] = df[\"State\"].map(category_maps[\"States\"])\n",
    "        df[\"Sex\"] = df[\"Sex\"].map(binary_maps[\"Sex\"])\n",
    "        df[\"PhysicalActivities\"] = df[\"PhysicalActivities\"].map(\n",
    "            binary_maps[\"PhysicalActivities\"]\n",
    "        )\n",
    "        df[\"HadHeartAttack\"] = df[\"HadHeartAttack\"].map(binary_maps[\"HadHeartAttack\"])\n",
    "        df[\"HadAngina\"] = df[\"HadAngina\"].map(binary_maps[\"HadAngina\"])\n",
    "        df[\"HadStroke\"] = df[\"HadStroke\"].map(binary_maps[\"HadStroke\"])\n",
    "        df[\"HadArthritis\"] = df[\"HadArthritis\"].map(binary_maps[\"HadArthritis\"])\n",
    "        df[\"HadDiabetes\"] = df[\"HadDiabetes\"].map(binary_maps[\"HadDiabetes\"])\n",
    "        df[\"AlcoholDrinkers\"] = df[\"AlcoholDrinkers\"].map(\n",
    "            binary_maps[\"AlcoholDrinkers\"]\n",
    "        )\n",
    "        df[\"HighRiskLastYear\"] = df[\"HighRiskLastYear\"].map(\n",
    "            binary_maps[\"HighRiskLastYear\"]\n",
    "        )\n",
    "    if fillna:\n",
    "        df = df.fillna(value=fill_values)\n",
    "    if dropna:\n",
    "        df = df.dropna(how=\"any\")\n",
    "    if drop_obj:\n",
    "        df = df.drop(columns=df.select_dtypes(include=[\"object\"]).columns).reindex()\n",
    "\n",
    "    df = df.drop_duplicates(\n",
    "        subset=None, keep=\"first\", inplace=False, ignore_index=False\n",
    "    )\n",
    "\n",
    "    pd.DataFrame.to_csv(df, f\"{path}/clean_data.csv\", index=False)\n",
    "\n",
    "    return pd.DataFrame(df)"
   ]
  },
  {
   "cell_type": "code",
   "execution_count": null,
   "id": "9ae0a78c",
   "metadata": {},
   "outputs": [],
   "source": [
    "def fetch_check(\n",
    "    to_fetch: bool = False,\n",
    "    to_fillna: bool = False,\n",
    "    to_dropna: bool = False,\n",
    "    to_remap: bool = True,\n",
    "    drop_obj: bool = True,\n",
    "):\n",
    "    \"\"\"\n",
    "    Check for fetch and data cleaning toggles\n",
    "    \"\"\"\n",
    "\n",
    "    # check for existing file and not_fetch bool stats\n",
    "    if not CLEAN_DATA_PATH or to_fetch:\n",
    "        df = pd.read_csv(CSV_URL)\n",
    "        df.to_csv(RAW_DATA_PATH)\n",
    "        df = clean_data(\n",
    "            df,\n",
    "            \"data/csv/\",\n",
    "            fillna=to_fillna,\n",
    "            dropna=to_dropna,\n",
    "            remap_values=to_remap,\n",
    "            drop_obj=drop_obj,\n",
    "        )\n",
    "    else:\n",
    "        df = pd.read_csv(CLEAN_DATA_PATH)\n",
    "\n",
    "    return df"
   ]
  },
  {
   "cell_type": "code",
   "execution_count": null,
   "id": "11f471bd",
   "metadata": {},
   "outputs": [],
   "source": []
  }
 ],
 "metadata": {
  "jupytext": {
   "cell_metadata_filter": "-all",
   "main_language": "python",
   "notebook_metadata_filter": "-all"
  },
  "kernelspec": {
   "display_name": "project_2_env",
   "language": "python",
   "name": "python3"
  },
  "language_info": {
   "name": "python",
   "version": "3.12.8"
  }
 },
 "nbformat": 4,
 "nbformat_minor": 5
}
