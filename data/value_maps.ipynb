{
 "cells": [
  {
   "cell_type": "code",
   "execution_count": null,
   "id": "314ca4d4",
   "metadata": {},
   "outputs": [],
   "source": [
    "\"\"\"\n",
    "    Int maps for Dataframe column values\n",
    "    \n",
    "    The numerical values can also be thought of as weights. Ie, poor general health (4 out of 4) is 'heavier' than\n",
    "    excellent general health (0 out if 4)\n",
    "\"\"\""
   ]
  },
  {
   "cell_type": "code",
   "execution_count": null,
   "id": "5e80958d",
   "metadata": {},
   "outputs": [],
   "source": [
    "fill_values = {\n",
    "    \"HighRiskLastYear\": 99.99,\n",
    "    \"AlcoholDrinkers\": 99.99,\n",
    "    \"AgeCategory\": 99.99,\n",
    "    \"RaceEthnicityCategory\": 99.99,\n",
    "    \"ECigaretteUsage\": 99.99,\n",
    "    \"SmokerStatus\": 99.99,\n",
    "    \"HadDiabetes\": 99.99,\n",
    "    \"HadArthritis\": 99.99,\n",
    "    \"HadKidneyDisease\": 99.99,\n",
    "    \"HadDepressiveDisorder\": 99.99,\n",
    "    \"HadAsthma\": 99.99,\n",
    "    \"HadStroke\": 99.99,\n",
    "    \"HadAngina\": 99.99,\n",
    "    \"HadHeartAttack\": 99.99,\n",
    "    \"PhysicalActivities\": 99.99,\n",
    "    \"GeneralHealth\": 99.99,\n",
    "    \"Sex\": 99.99,\n",
    "    \"SleepHours\": 99.99,\n",
    "    \"HeightInMeters\": 99.99,\n",
    "    \"BMI\": 99.99,\n",
    "    \"WeightInKilograms\": 99.99,\n",
    "}"
   ]
  },
  {
   "cell_type": "code",
   "execution_count": null,
   "id": "a033d018",
   "metadata": {},
   "outputs": [],
   "source": [
    "sex_values = {\"Female\": 1, \"Male\": 0}"
   ]
  },
  {
   "cell_type": "code",
   "execution_count": null,
   "id": "30e3cbae",
   "metadata": {},
   "outputs": [],
   "source": [
    "binary_values = {\"Yes\": 1, \"No\": 0}"
   ]
  },
  {
   "cell_type": "code",
   "execution_count": null,
   "id": "2ce74a55",
   "metadata": {},
   "outputs": [],
   "source": [
    "gen_health_weights = {\n",
    "    \"Poor\": 4,\n",
    "    \"Fair\": 3,\n",
    "    \"Very good\": 2,\n",
    "    \"Good\": 1,\n",
    "    \"Excellent\": 0,\n",
    "}"
   ]
  },
  {
   "cell_type": "code",
   "execution_count": null,
   "id": "0f8062ac",
   "metadata": {},
   "outputs": [],
   "source": [
    "age_ranges = {\n",
    "    \"Age 80 or older\": 12,\n",
    "    \"Age 75 to 79\": 11,\n",
    "    \"Age 70 to 74\": 10,\n",
    "    \"Age 65 to 69\": 9,\n",
    "    \"Age 60 to 64\": 8,\n",
    "    \"Age 55 to 59\": 7,\n",
    "    \"Age 50 to 54\": 6,\n",
    "    \"Age 45 to 49\": 5,\n",
    "    \"Age 40 to 44\": 4,\n",
    "    \"Age 35 to 39\": 3,\n",
    "    \"Age 30 to 34\": 2,\n",
    "    \"Age 25 to 29\": 1,\n",
    "    \"Age 18 to 24\": 0,\n",
    "}"
   ]
  },
  {
   "cell_type": "code",
   "execution_count": null,
   "id": "91cf0c80",
   "metadata": {},
   "outputs": [],
   "source": [
    "race_ethnicity_category = {\n",
    "    \"Hispanic\": 4,\n",
    "    \"White only, Non-Hispanic\": 3,\n",
    "    \"Black only, Non-Hispanic\": 2,\n",
    "    \"Multiracial, Non-Hispanic\": 1,\n",
    "    \"Other race only, Non-Hispanic\": 0,\n",
    "}"
   ]
  },
  {
   "cell_type": "code",
   "execution_count": null,
   "id": "caf0b76b",
   "metadata": {},
   "outputs": [],
   "source": [
    "smoking_history = {\n",
    "    \"Current smoker - now smokes every day\": 3,\n",
    "    \"Current smoker - now smokes some days\": 2,\n",
    "    \"Former smoker\": 1,\n",
    "    \"Never smoked\": 0,\n",
    "}"
   ]
  },
  {
   "cell_type": "code",
   "execution_count": null,
   "id": "4f758ca1",
   "metadata": {},
   "outputs": [],
   "source": [
    "e_smoking_history = {\n",
    "    \"Use them some days\": 3,\n",
    "    \"Use them every day\": 2,\n",
    "    \"Not at all (right now)\": 1,\n",
    "    \"Never used e-cigarettes in my entire life\": 0,\n",
    "}"
   ]
  },
  {
   "cell_type": "code",
   "execution_count": null,
   "id": "be556c3c",
   "metadata": {},
   "outputs": [],
   "source": [
    "last_checkup = {\n",
    "    \"5 or more years ago\": 3,\n",
    "    \"Within past 5 years (2 years but less than 5 years ago)\": 2,\n",
    "    \"Within past 2 years (1 year but less than 2 years ago)\": 1,\n",
    "    \"Within past year (anytime less than 12 months ago)\": 0,\n",
    "}"
   ]
  },
  {
   "cell_type": "code",
   "execution_count": null,
   "id": "755fcb7a",
   "metadata": {},
   "outputs": [],
   "source": [
    "states = {\n",
    "    \"Washington\": 53,\n",
    "    \"New York\": 52,\n",
    "    \"Minnesota\": 51,\n",
    "    \"Ohio\": 50,\n",
    "    \"Maryland\": 49,\n",
    "    \"Texas\": 48,\n",
    "    \"Florida\": 47,\n",
    "    \"Wisconsin\": 46,\n",
    "    \"Kansas\": 45,\n",
    "    \"Massachusetts\": 44,\n",
    "    \"California\": 43,\n",
    "    \"Maine\": 42,\n",
    "    \"Indiana\": 41,\n",
    "    \"Virginia\": 40,\n",
    "    \"Arizona\": 39,\n",
    "    \"Michigan\": 38,\n",
    "    \"South Carolina\": 37,\n",
    "    \"Utah\": 36,\n",
    "    \"Connecticut\": 35,\n",
    "    \"Colorado\": 34,\n",
    "    \"Georgia\": 33,\n",
    "    \"Iowa\": 32,\n",
    "    \"Vermont\": 31,\n",
    "    \"New Jersey\": 30,\n",
    "    \"Hawaii\": 29,\n",
    "    \"Nebraska\": 28,\n",
    "    \"Missouri\": 27,\n",
    "    \"South Dakota\": 26,\n",
    "    \"Montana\": 25,\n",
    "    \"New Hampshire\": 24,\n",
    "    \"Idaho\": 23,\n",
    "    \"Rhode Island\": 22,\n",
    "    \"Alaska\": 21,\n",
    "    \"Oklahoma\": 20,\n",
    "    \"Oregon\": 19,\n",
    "    \"Louisiana\": 18,\n",
    "    \"Puerto Rico\": 17,\n",
    "    \"Arkansas\": 16,\n",
    "    \"Tennessee\": 15,\n",
    "    \"West Virginia\": 14,\n",
    "    \"New Mexico\": 13,\n",
    "    \"Pennsylvania\": 12,\n",
    "    \"Alabama\": 11,\n",
    "    \"North Carolina\": 10,\n",
    "    \"Mississippi\": 9,\n",
    "    \"North Dakota\": 8,\n",
    "    \"Wyoming\": 7,\n",
    "    \"Illinois\": 6,\n",
    "    \"Kentucky\": 5,\n",
    "    \"Delaware\": 4,\n",
    "    \"District of Columbia\": 3,\n",
    "    \"Nevada\": 2,\n",
    "    \"Guam\": 1,\n",
    "    \"Virgin Islands\": 0,\n",
    "}"
   ]
  },
  {
   "cell_type": "code",
   "execution_count": null,
   "id": "a397e383",
   "metadata": {},
   "outputs": [],
   "source": [
    "category_maps = {\n",
    "    \"States\": states,\n",
    "    \"LastCheckupTime\": last_checkup,\n",
    "    \"GeneralHealth\": gen_health_weights,\n",
    "    \"SmokerStatus\": smoking_history,\n",
    "    \"ECigaretteUsage\": e_smoking_history,\n",
    "    \"RaceEthnicityCategory\": race_ethnicity_category,\n",
    "    \"AgeCategory\": age_ranges,\n",
    "}"
   ]
  },
  {
   "cell_type": "code",
   "execution_count": null,
   "id": "49493593",
   "metadata": {},
   "outputs": [],
   "source": [
    "binary_maps = {\n",
    "    \"Sex\": sex_values,\n",
    "    \"AlcoholDrinkers\": binary_values,\n",
    "    \"HighRiskLastYear\": binary_values,\n",
    "    \"PhysicalActivities\": binary_values,\n",
    "    \"HadHeartAttack\": binary_values,\n",
    "    \"HadAngina\": binary_values,\n",
    "    \"HadStroke\": binary_values,\n",
    "    \"HadArthritis\": binary_values,\n",
    "    \"HadDiabetes\": binary_values,\n",
    "}"
   ]
  }
 ],
 "metadata": {
  "jupytext": {
   "cell_metadata_filter": "-all",
   "main_language": "python",
   "notebook_metadata_filter": "-all"
  }
 },
 "nbformat": 4,
 "nbformat_minor": 5
}
