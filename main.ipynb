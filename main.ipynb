{
 "cells": [
  {
   "cell_type": "code",
   "execution_count": null,
   "metadata": {},
   "outputs": [],
   "source": [
    "\"\"\"Data Analyzing & Cleaning\"\"\"\n",
    "\n",
    "from data.clean_data import fetch_check\n",
    "import matplotlib.pyplot as plt\n",
    "import ipyparallel as ipp\n",
    "import pandas as pd\n",
    "import numpy as np"
   ]
  },
  {
   "cell_type": "markdown",
   "metadata": {},
   "source": [
    "Key Features for a Predictive Model\n",
    "\n",
    "For a predictive machine learning model, the strongest predictors are likely:\n",
    "\n",
    "\t- HadHeartAttack\n",
    "\t- HadAngina\n",
    "\t- HadStroke\n",
    "\t- HadDiabetes\n",
    "\t- SmokerStatus\n",
    "\t- BMI\n",
    "\t- AgeCategory\n",
    "\t- Sex"
   ]
  },
  {
   "cell_type": "markdown",
   "metadata": {},
   "source": []
  },
  {
   "cell_type": "code",
   "execution_count": null,
   "metadata": {},
   "outputs": [],
   "source": [
    "keepers = [\n",
    "    \"Sex\",\n",
    "    \"GeneralHealth\",\n",
    "    \"PhysicalHealthDays\",\n",
    "    \"SleepHours\",\n",
    "    \"SmokerStatus\",\n",
    "    \"ECigaretteUsage\",\n",
    "    \"RaceEthnicityCategory\",\n",
    "    \"AgeCategory\",\n",
    "    \"WeightInKilograms\",\n",
    "    \"BMI\",\n",
    "    \"AlcoholDrinkers\",\n",
    "    \"HighRiskLastYear\",\n",
    "]\n"
   ]
  },
  {
   "cell_type": "code",
   "execution_count": null,
   "metadata": {},
   "outputs": [],
   "source": [
    "import seaborn as sns\n",
    "from sklearn.cluster import KMeans\n",
    "from sklearn.preprocessing import StandardScaler\n",
    "\n",
    "# set scaler\n",
    "scaler = StandardScaler()\n",
    "\n",
    "df = fetch_check(to_fetch=True, to_fillna=True, to_dropna=False)\n",
    "df = df[keepers]\n",
    "\n",
    "# scale features\n",
    "X_scaled = scaler.fit(df)\n",
    "X_scaled = scaler.transform(df)"
   ]
  },
  {
   "cell_type": "code",
   "execution_count": null,
   "metadata": {},
   "outputs": [],
   "source": [
    "def load_and_preprocess_data(df):\n",
    "\n",
    "    df[\"HeartDisease\"] = ((df[\"HadHeartAttack\"] == 1) | (df[\"HadAngina\"] == 1)).astype(\n",
    "        int\n",
    "    )\n",
    "    \n",
    "    print(\"\\nHeartDisease column distribution:\")\n",
    "    print(df[\"HeartDisease\"].value_counts(normalize=True))\n",
    "\n",
    "    x = df.drop([\"HeartDisease\"], axis=1)\n",
    "    y = df[\"HeartDisease\"]\n",
    "\n",
    "    for column in x.columns:\n",
    "        if x[column].dtype in [\"int64\", \"float64\"]:\n",
    "            x[column].fillna(x[column].median(), inplace=True)\n",
    "        else:\n",
    "            x[column].fillna(x[column].mode()[0], inplace=True)\n",
    "\n",
    "    return x, y\n"
   ]
  },
  {
   "cell_type": "code",
   "execution_count": null,
   "metadata": {},
   "outputs": [],
   "source": [
    "X = pd.DataFrame(X_scaled)\n",
    "sns.pairplot(X, diag_kind=\"hist\").savefig(fname='./data/plots/target_columns_all_nans_all_fills.png')"
   ]
  }
 ],
 "metadata": {
  "kernelspec": {
   "display_name": "project_2_env",
   "language": "python",
   "name": "python3"
  },
  "language_info": {
   "codemirror_mode": {
    "name": "ipython",
    "version": 3
   },
   "file_extension": ".py",
   "mimetype": "text/x-python",
   "name": "python",
   "nbconvert_exporter": "python",
   "pygments_lexer": "ipython3",
   "version": "3.12.7"
  }
 },
 "nbformat": 4,
 "nbformat_minor": 2
}
