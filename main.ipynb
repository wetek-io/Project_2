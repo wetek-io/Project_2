{
 "cells": [
  {
   "cell_type": "code",
   "execution_count": null,
   "metadata": {},
   "outputs": [],
   "source": [
    "\"\"\"Data Analyzing & Cleaning\"\"\"\n",
    "\n",
    "import matplotlib as plot\n",
    "import pandas as pd\n",
    "import numpy as np\n",
    "import requests\n",
    "from data.clean_data import clean_data\n"
   ]
  },
  {
   "cell_type": "code",
   "execution_count": null,
   "metadata": {},
   "outputs": [],
   "source": [
    "df = pd.read_csv(\n",
    "    \"https://web-app-media-assests.sfo3.cdn.digitaloceanspaces.com/Indicators_of_Heart_Disease/2022/heart_2022_with_nans.csv\"\n",
    ")\n",
    "df = clean_data(df, './data/csv')"
   ]
  },
  {
   "cell_type": "markdown",
   "metadata": {},
   "source": [
    "Key Features for a Predictive Model\n",
    "\n",
    "For a predictive machine learning model, the strongest predictors are likely:\n",
    "\n",
    "\t- HadHeartAttack\n",
    "\t- HadAngina\n",
    "\t- HadStroke\n",
    "\t- HadDiabetes\n",
    "\t- SmokerStatus\n",
    "\t- BMI\n",
    "\t- AgeCategory\n",
    "\t- Sex"
   ]
  },
  {
   "cell_type": "code",
   "execution_count": null,
   "metadata": {},
   "outputs": [],
   "source": [
    "df"
   ]
  }
 ],
 "metadata": {
  "kernelspec": {
   "display_name": "project_2_env",
   "language": "python",
   "name": "python3"
  },
  "language_info": {
   "codemirror_mode": {
    "name": "ipython",
    "version": 3
   },
   "file_extension": ".py",
   "mimetype": "text/x-python",
   "name": "python",
   "nbconvert_exporter": "python",
   "pygments_lexer": "ipython3",
   "version": "3.12.7"
  }
 },
 "nbformat": 4,
 "nbformat_minor": 2
}
