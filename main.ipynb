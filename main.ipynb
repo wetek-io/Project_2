{
 "cells": [
  {
   "cell_type": "code",
   "execution_count": null,
   "metadata": {},
   "outputs": [],
   "source": [
    "\"\"\"Data Analyzing & Cleaning\"\"\"\n",
    "\n",
    "from pathlib import Path\n",
    "from data.clean_data import clean_data\n",
    "import matplotlib.pyplot as plt\n",
    "import ipyparallel as ipp\n",
    "import pandas as pd\n",
    "import numpy as np\n",
    "import requests\n",
    "import time"
   ]
  },
  {
   "cell_type": "code",
   "execution_count": null,
   "metadata": {},
   "outputs": [],
   "source": [
    "csv_url = \"https://web-app-media-assests.sfo3.cdn.digitaloceanspaces.com/Indicators_of_Heart_Disease/2022/heart_2022_with_nans.csv\"\n",
    "raw_data = './data/csv/raw_data.csv'\n",
    "clean_data = './data/csv/clean_data.csv'"
   ]
  },
  {
   "cell_type": "code",
   "execution_count": null,
   "metadata": {},
   "outputs": [],
   "source": [
    "# Check if raw data exists\n",
    "if not Path(raw_data).exists():\n",
    "  print('none file')\n",
    "  df = pd.read_csv(\n",
    "    csv_url\n",
    "\t)\n",
    "else: df = pd.read_csv(raw_data, index_col=None)"
   ]
  },
  {
   "cell_type": "markdown",
   "metadata": {},
   "source": [
    "Key Features for a Predictive Model\n",
    "\n",
    "For a predictive machine learning model, the strongest predictors are likely:\n",
    "\n",
    "\t- HadHeartAttack\n",
    "\t- HadAngina\n",
    "\t- HadStroke\n",
    "\t- HadDiabetes\n",
    "\t- SmokerStatus\n",
    "\t- BMI\n",
    "\t- AgeCategory\n",
    "\t- Sex"
   ]
  },
  {
   "cell_type": "code",
   "execution_count": null,
   "metadata": {},
   "outputs": [],
   "source": [
    "df"
   ]
  },
  {
   "cell_type": "code",
   "execution_count": null,
   "metadata": {},
   "outputs": [],
   "source": [
    "not_refetch: bool = False\n",
    "if not Path(clean_data).exists():\n",
    "\tdf = pd.read_csv(\n",
    "\t\tcsv_url\n",
    "\t)\n",
    "\tdf = clean_data(df, 'data/csv/', fillna=False, dropna=False)\n",
    "elif Path(clean_data).exists() and not_refetch is False:\n",
    "\tdf = pd.read_csv(\n",
    "\t\tcsv_url\n",
    "\t)\n",
    "\tdf = clean_data(df, 'data/csv/', fillna=False, dropna=False)\n",
    "else: df = pd.read_csv(clean_data)"
   ]
  },
  {
   "cell_type": "code",
   "execution_count": null,
   "metadata": {},
   "outputs": [],
   "source": [
    "df"
   ]
  },
  {
   "cell_type": "code",
   "execution_count": null,
   "metadata": {},
   "outputs": [],
   "source": [
    "df.info()"
   ]
  },
  {
   "cell_type": "code",
   "execution_count": null,
   "metadata": {},
   "outputs": [],
   "source": [
    "import seaborn as sns\n",
    "from sklearn.cluster import KMeans\n",
    "from sklearn.preprocessing import StandardScaler"
   ]
  },
  {
   "cell_type": "code",
   "execution_count": null,
   "metadata": {},
   "outputs": [],
   "source": [
    "# scaler = StandardScaler()\n",
    "\n",
    "# features = [\n",
    "# \t'State',\n",
    "# \t'Sex',\n",
    "# \t'GeneralHealth',\n",
    "# \t'PhysicalHealthDays',\n",
    "# \t'MentalHealthDays',\n",
    "# \t'LastCheckupTime',\n",
    "# \t'PhysicalActivities',\n",
    "# \t'SleepHours',\n",
    "# \t'HadHeartAttack',\n",
    "# \t'HadAngina',\n",
    "# \t'HadStroke',\n",
    "# \t'HadArthritis',\n",
    "# \t'HadDiabetes',\n",
    "# \t'SmokerStatus',\n",
    "# \t'ECigaretteUsage',\n",
    "# \t'RaceEthnicityCategory',\n",
    "# \t'AgeCategory',\n",
    "# \t'HeightInMeters',\n",
    "# \t'WeightInKilograms',\n",
    "# \t'BMI',\n",
    "# \t'AlcoholDrinkers',\n",
    "# \t'HighRiskLastYear',\n",
    "# ]\n",
    "# X = df[features]\n",
    "\n",
    "# X_scaled = scaler.fit_transform(X)\n",
    "# X_scaled = pd.DataFrame(X_scaled)\n",
    "# sns.pairplot(X_scaled)\n",
    "# plt.show()"
   ]
  },
  {
   "cell_type": "code",
   "execution_count": null,
   "metadata": {},
   "outputs": [],
   "source": []
  }
 ],
 "metadata": {
  "kernelspec": {
   "display_name": "project_2_env",
   "language": "python",
   "name": "python3"
  },
  "language_info": {
   "codemirror_mode": {
    "name": "ipython",
    "version": 3
   },
   "file_extension": ".py",
   "mimetype": "text/x-python",
   "name": "python",
   "nbconvert_exporter": "python",
   "pygments_lexer": "ipython3",
   "version": "3.12.7"
  }
 },
 "nbformat": 4,
 "nbformat_minor": 2
}
