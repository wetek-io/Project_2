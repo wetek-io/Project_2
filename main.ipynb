{
 "cells": [
  {
   "cell_type": "code",
   "execution_count": null,
   "metadata": {},
   "outputs": [],
   "source": [
    "\"\"\"Data Analyzing & Cleaning\"\"\"\n",
    "\n",
    "import matplotlib as plot # type: ignore\n",
    "import pandas as pd # type: ignore\n",
    "import numpy as np # type: ignore\n",
    "import requests # type: ignore\n"
   ]
  },
  {
   "cell_type": "code",
   "execution_count": null,
   "metadata": {},
   "outputs": [],
   "source": [
    "# 'https://web-app-media-assests.sfo3.cdn.digitaloceanspaces.com/Indicators_of_Heart_Disease/2020/heart_2020_cleaned.csv',\n",
    "# 'https://web-app-media-assests.sfo3.cdn.digitaloceanspaces.com/Indicators_of_Heart_Disease/2022/heart_2022_no_nans.csv',\n",
    "data_eps = [\n",
    "\t'https://web-app-media-assests.sfo3.cdn.digitaloceanspaces.com/Indicators_of_Heart_Disease/2022/heart_2022_with_nans.csv'\n",
    "]\n",
    "\n",
    "dfs = {}\n",
    "\n",
    "for i, e in enumerate(data_eps):\n",
    "  response = requests.get(data_eps[i])\n",
    "  \n",
    "  if response.status_code == 200:\n",
    "    dfs[f'df_{i}'] = pd.read_csv(data_eps[i])\n",
    "    print('Success')\n",
    "  else:\n",
    "    print('Failure')\n",
    "  print(data_eps[i])\n",
    "  print(f'df_{i}')\n"
   ]
  },
  {
   "cell_type": "code",
   "execution_count": null,
   "metadata": {},
   "outputs": [],
   "source": [
    "# df1 = pd.DataFrame(dfs['df_0'])\n",
    "# df2 = pd.DataFrame(dfs['df_1'])\n",
    "df3 = pd.DataFrame(dfs['df_0'])"
   ]
  },
  {
   "cell_type": "code",
   "execution_count": null,
   "metadata": {},
   "outputs": [],
   "source": [
    "df3 = df3.drop(columns=[\"DeafOrHardOfHearing\", \"BlindOrVisionDifficulty\", \"DifficultyConcentrating\", \"DifficultyWalking\", \"DifficultyDressingBathing\", \"DifficultyErrands\", \"HeightInMeters\"])\n",
    "df3.isna().sum()"
   ]
  },
  {
   "cell_type": "code",
   "execution_count": null,
   "metadata": {},
   "outputs": [],
   "source": [
    "df3.info()"
   ]
  },
  {
   "cell_type": "markdown",
   "metadata": {},
   "source": [
    "Key Features for a Predictive Model\n",
    "\n",
    "For a predictive machine learning model, the strongest predictors are likely:\n",
    "\n",
    "\t- HadHeartAttack\n",
    "\t- HadAngina\n",
    "\t- HadStroke\n",
    "\t- HadDiabetes\n",
    "\t- SmokerStatus\n",
    "\t- BMI\n",
    "\t- AgeCategory\n",
    "\t- Sex"
   ]
  },
  {
   "cell_type": "code",
   "execution_count": null,
   "metadata": {},
   "outputs": [],
   "source": []
  }
 ],
 "metadata": {
  "kernelspec": {
   "display_name": "project_2_env",
   "language": "python",
   "name": "python3"
  },
  "language_info": {
   "codemirror_mode": {
    "name": "ipython",
    "version": 3
   },
   "file_extension": ".py",
   "mimetype": "text/x-python",
   "name": "python",
   "nbconvert_exporter": "python",
   "pygments_lexer": "ipython3",
   "version": "3.12.7"
  }
 },
 "nbformat": 4,
 "nbformat_minor": 2
}
